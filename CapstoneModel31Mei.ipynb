{
 "cells": [
  {
   "cell_type": "code",
   "execution_count": 1,
   "id": "cad9f9fe",
   "metadata": {},
   "outputs": [],
   "source": [
    "# import packages that we need\n",
    "import pandas as pd\n",
    "import numpy as np\n",
    "import keras\n",
    "import os\n",
    "import zipfile\n",
    "import random\n",
    "import shutil\n",
    "import tensorflow as tf\n",
    "from tensorflow.keras.preprocessing.image import ImageDataGenerator\n",
    "from shutil import copyfile\n",
    "import matplotlib.pyplot as plt\n",
    "\n",
    "from tensorflow.keras.optimizers import RMSprop\n",
    "from sklearn.utils.class_weight import compute_class_weight\n",
    "\n",
    "import tensorflow as tf\n",
    "from tensorflow import keras\n",
    "from tensorflow.keras import Model\n",
    "from tensorflow.keras.models import load_model\n",
    "from tensorflow.keras import layers\n",
    "from tensorflow.keras.callbacks import ModelCheckpoint\n",
    "from tensorflow.keras.optimizers import Adam\n",
    "from tensorflow.keras.preprocessing.image import ImageDataGenerator, img_to_array, load_img\n",
    "\n",
    "import pandas as pd\n",
    "import numpy as np\n",
    "import matplotlib.pyplot as plt\n",
    "import os\n",
    "\n",
    "import io\n",
    "import random\n",
    "import shutil\n",
    "from PIL import Image\n",
    "\n",
    "\n",
    "import time\n",
    "from tqdm import tqdm"
   ]
  },
  {
   "cell_type": "code",
   "execution_count": 2,
   "id": "b2189bcd",
   "metadata": {},
   "outputs": [],
   "source": [
    "DATADIR = r'C:\\Users\\Donny Harahap\\OneDrive\\Dokumen\\Google Bangkit\\Capstone'\n",
    "CATEGORIES = ['Clostridium.perfringens', 'Enterococcus.faecium','Escherichia.coli','Fusobacterium','Lactobacillus.crispatus','Acinetobacter.baumanii','Bacteroides.fragilis',]\n",
    "#CATEGORIES = ['Abutilon Hybridum','Alpinia Galanga (Rasna)', 'Amaranthus Viridis (Arive-Dantu)', 'Anthurium Scherzerianum', 'Aporocactus Flagelliformis', 'Basella Alba (Basale)', 'Calathea Crocata', 'daisy', 'dandelion', 'Ficus Religiosa (Peepal Tree)', 'Hibiscus rosa-sinensis', 'Lithops fulleri', 'Lithops optica _Rubra_', 'Lithops pseudotruncatella', 'Moringa Oleifera (Drumstick)', 'Nerium Oleander (Oleander)', 'Ocimum Tenuiflorum (Tulsi)', 'Pachystachys Lutea', 'Paphiopedilum Venustum', 'Peperomia Argyela', 'Phalaenopsis amabilis', 'Plectranthus Amboinicus (Mexican Mint)', 'Punica Granatum (Pomegranate)', 'rose', 'Schlumbergera Bridgesii', 'Strelitzia Reginae', 'sunflower', 'Trigonella Foenum-graecum (Fenugreek)', 'tulip', 'Asplenium Nidus', 'Calathea Roseopicta', 'Calathea Zebrina', 'Chlorophytum Comosum', 'Davallia Fejeensis', 'Ficus Auriculata (Roxburgh fig)', 'Mentha (Mint)', 'Nephrolepis Exaltata', 'Opuntia Microdasys', 'Pilea Cadierei', 'Piper Betle (Betel)', 'Santalum Album (Sandalwood)', 'Sedum Morganianum', 'Monstera Deliciosa', 'snow white aglaonema']"
   ]
  },
  {
   "cell_type": "code",
   "execution_count": 3,
   "id": "83347fd8",
   "metadata": {},
   "outputs": [
    {
     "name": "stdout",
     "output_type": "stream",
     "text": [
      "There are 23 images of Clostridium.perfringens.\n",
      "There are 20 images of Enterococcus.faecium.\n"
     ]
    }
   ],
   "source": [
    "source_path = r'C:\\Users\\Donny Harahap\\OneDrive\\Dokumen\\Google Bangkit\\Capstone'\n",
    "\n",
    "source_path_dogs = os.path.join(source_path, 'Clostridium.perfringens')\n",
    "source_path_cats = os.path.join(source_path, 'Enterococcus.faecium')\n",
    "\n",
    "\n",
    "# os.listdir returns a list containing all files under the given path\n",
    "print(f\"There are {len(os.listdir(source_path_dogs))} images of Clostridium.perfringens.\")\n",
    "print(f\"There are {len(os.listdir(source_path_cats))} images of Enterococcus.faecium.\")"
   ]
  },
  {
   "cell_type": "code",
   "execution_count": 4,
   "id": "a131e669",
   "metadata": {},
   "outputs": [],
   "source": [
    "# Define root directoryeifera (Drumstick)', 'Nerium Oleander (Oleander)', 'Ocimum Tenuiflorum (Tulsi)', 'Pachystachys Lutea', 'Paphiopedilum Venustum', 'Peperomia Argyela', 'Phalaenopsis amabilis', 'Plectranthus Amboinicus (Mexican Mint)', 'Punica Granatum (Pomegranate)', 'rose', 'Schlumbergera Bridgesii', 'Strelitzia Reginae', 'sunflower', 'Trigonella Foenum-graecum (Fenugreek)', 'tulip', 'Asplenium Nidus', 'Calathea Roseopicta', 'Calathea Zebrina', 'Chlorophytum Comosum', 'Davallia Fejeensis', 'Ficus Auriculata (Roxburgh fig)', 'Mentha (Mint)', 'Nephrolepis Exaltata', 'Opuntia Microdasys', 'Pilea Cadierei', 'Piper Betle (Betel)', 'Santalum Album (Sandalwood)', 'Sedum Morganianum', 'Monstera Deliciosa', 'snow white aglaonema']\n",
    "root_dir = r'C:\\Users\\Donny Harahap\\Capstone'\n",
    "\n",
    "# Empty directory to prevent FileExistsError is the function is run several times\n",
    "if os.path.exists(root_dir):\n",
    "  shutil.rmtree(root_dir)\n",
    "\n",
    "# GRADED FUNCTION: create_train_test_dirs\n",
    "def create_train_test_dirs(root_path):\n",
    "\n",
    "  # Use os.makedirs to create your directories with intermediate subdirectories\n",
    "  # Don't hardcode the paths. Use os.path.join to append the new directories to the root_path parameter\n",
    "  train_dir = os.path.join(root_path, 'training')\n",
    "  os.makedirs(train_dir)\n",
    "  validation_dir = os.path.join(root_path, 'validation')\n",
    "  os.makedirs(validation_dir)\n",
    "  test_dir = os.path.join(root_path, 'testing')\n",
    "  os.makedirs(test_dir)\n",
    "  # Directory with training cat/dog pictures\n",
    "  for bakteri in CATEGORIES:\n",
    "        os.makedirs(os.path.join(train_dir, bakteri))\n",
    "\n",
    "  # Directory with validation cat/dog pictures\n",
    "  for bakteri in CATEGORIES:\n",
    "        os.makedirs(os.path.join(validation_dir, bakteri))\n",
    "  for bakteri in CATEGORIES:\n",
    "        os.makedirs(os.path.join(test_dir, bakteri))\n",
    "\n",
    "\n",
    "  \n",
    "try:\n",
    "  create_train_test_dirs(root_path=root_dir)\n",
    "except FileExistsError:\n",
    "  print(\"You should not be seeing this since the upper directory is removed beforehand\")"
   ]
  },
  {
   "cell_type": "code",
   "execution_count": 5,
   "id": "217dd00a",
   "metadata": {},
   "outputs": [
    {
     "name": "stdout",
     "output_type": "stream",
     "text": [
      "C:\\Users\\Donny Harahap\\Capstone\\testing\n",
      "C:\\Users\\Donny Harahap\\Capstone\\training\n",
      "C:\\Users\\Donny Harahap\\Capstone\\validation\n",
      "C:\\Users\\Donny Harahap\\Capstone\\testing\\Acinetobacter.baumanii\n",
      "C:\\Users\\Donny Harahap\\Capstone\\testing\\Bacteroides.fragilis\n",
      "C:\\Users\\Donny Harahap\\Capstone\\testing\\Clostridium.perfringens\n",
      "C:\\Users\\Donny Harahap\\Capstone\\testing\\Enterococcus.faecium\n",
      "C:\\Users\\Donny Harahap\\Capstone\\testing\\Escherichia.coli\n",
      "C:\\Users\\Donny Harahap\\Capstone\\testing\\Fusobacterium\n",
      "C:\\Users\\Donny Harahap\\Capstone\\testing\\Lactobacillus.crispatus\n",
      "C:\\Users\\Donny Harahap\\Capstone\\training\\Acinetobacter.baumanii\n",
      "C:\\Users\\Donny Harahap\\Capstone\\training\\Bacteroides.fragilis\n",
      "C:\\Users\\Donny Harahap\\Capstone\\training\\Clostridium.perfringens\n",
      "C:\\Users\\Donny Harahap\\Capstone\\training\\Enterococcus.faecium\n",
      "C:\\Users\\Donny Harahap\\Capstone\\training\\Escherichia.coli\n",
      "C:\\Users\\Donny Harahap\\Capstone\\training\\Fusobacterium\n",
      "C:\\Users\\Donny Harahap\\Capstone\\training\\Lactobacillus.crispatus\n",
      "C:\\Users\\Donny Harahap\\Capstone\\validation\\Acinetobacter.baumanii\n",
      "C:\\Users\\Donny Harahap\\Capstone\\validation\\Bacteroides.fragilis\n",
      "C:\\Users\\Donny Harahap\\Capstone\\validation\\Clostridium.perfringens\n",
      "C:\\Users\\Donny Harahap\\Capstone\\validation\\Enterococcus.faecium\n",
      "C:\\Users\\Donny Harahap\\Capstone\\validation\\Escherichia.coli\n",
      "C:\\Users\\Donny Harahap\\Capstone\\validation\\Fusobacterium\n",
      "C:\\Users\\Donny Harahap\\Capstone\\validation\\Lactobacillus.crispatus\n"
     ]
    }
   ],
   "source": [
    "# Test your create_train_test_dirs function\n",
    "\n",
    "for rootdir, dirs, files in os.walk(root_dir):\n",
    "    for subdir in dirs:\n",
    "        print(os.path.join(rootdir, subdir))"
   ]
  },
  {
   "cell_type": "code",
   "execution_count": 6,
   "id": "588cbf91",
   "metadata": {},
   "outputs": [],
   "source": [
    "# GRADED FUNCTION: split_data\n",
    "def split_data(SOURCE, TRAINING, VALIDATION, TESTING, SPLIT_SIZE1, SPLIT_SIZE2):\n",
    "\n",
    "  ### START CODE HERE\n",
    "  #os.path.getsize(PATH)\n",
    "    list_name = os.listdir(SOURCE)\n",
    "    random.sample(list_name, len(list_name))\n",
    "  \n",
    "\n",
    "\n",
    "    part1 = int(len(list_name) * SPLIT_SIZE1)\n",
    "    training_file = list_name[:part1]\n",
    "    PREtesting_file =list_name[part1:]\n",
    "    part2 = int(len(PREtesting_file) * SPLIT_SIZE2)\n",
    "    validation_file = PREtesting_file[:part2]\n",
    "    testing_file =PREtesting_file[part2:]\n",
    "\n",
    "    for file in training_file:\n",
    "        copyfile(os.path.join(SOURCE, file), os.path.join(TRAINING, file))\n",
    "    for file in validation_file:\n",
    "        copyfile(os.path.join(SOURCE, file), os.path.join(VALIDATION, file))\n",
    "    for file in testing_file:\n",
    "        copyfile(os.path.join(SOURCE, file), os.path.join(TESTING, file))\n",
    "#      copyfile(SOURCE+file, TESTING+file)\n",
    "\n",
    "  ### END CODE HERE\n"
   ]
  },
  {
   "cell_type": "code",
   "execution_count": 7,
   "id": "a55be7da",
   "metadata": {},
   "outputs": [],
   "source": [
    "TRAINING_DIR = r\"C:\\Users\\Donny Harahap\\Capstone\\training\"\n",
    "VALIDATION_DIR = r\"C:\\Users\\Donny Harahap\\Capstone\\validation\"\n",
    "TESTING_DIR = r\"C:\\Users\\Donny Harahap\\Capstone\\testing\"\n",
    "\n",
    "for bakteri in CATEGORIES:\n",
    "    if len(os.listdir(os.path.join(TRAINING_DIR, bakteri))) > 0:\n",
    "        for file in os.scandir(os.path.join(TRAINING_DIR, bakteri)):\n",
    "            os.remove(file.path)\n",
    "    if len(os.listdir(os.path.join(VALIDATION_DIR, bakteri))) > 0:\n",
    "        for file in os.scandir(os.path.join(VALIDATION_DIR, bakteri)):\n",
    "            os.remove(file.path)\n",
    "    if len(os.listdir(os.path.join(TESTING_DIR, bakteri))) > 0:\n",
    "        for file in os.scandir(os.path.join(TESTING_DIR, bakteri)):\n",
    "            os.remove(file.path)\n",
    "\n",
    "# Define proportion of images used for training\n",
    "split_size1 = .8\n",
    "split_size2 = 0.5\n",
    "# Run the function\n",
    "# NOTE: Messages about zero length images should be printed out\n",
    "for bakteri in CATEGORIES:\n",
    "    split_data(os.path.join(source_path, bakteri), os.path.join(TRAINING_DIR, bakteri), os.path.join(VALIDATION_DIR, bakteri), os.path.join(TESTING_DIR, bakteri), split_size1, split_size2)\n",
    "    \n"
   ]
  },
  {
   "cell_type": "code",
   "execution_count": 8,
   "id": "cde7d921",
   "metadata": {},
   "outputs": [],
   "source": [
    "# GRADED FUNCTION: train_val_generators\n",
    "def train_val_generators(TRAINING_DIR, VALIDATION_DIR):\n",
    "  ### START CODE HERE\n",
    "\n",
    "  # Instantiate the ImageDataGenerator class (don't forget to set the arguments to augment the images)\n",
    "  train_datagen = ImageDataGenerator(rescale=1.0/255.0,\n",
    "                                     rotation_range=20,\n",
    "                                     width_shift_range=.0,\n",
    "                                     height_shift_range=.0,\n",
    "                                     shear_range=0.2,\n",
    "                                     zoom_range=0.2,\n",
    "                                     horizontal_flip=True,\n",
    "                                     fill_mode=\"nearest\")\n",
    "\n",
    "  # Pass in the appropriate arguments to the flow_from_directory method\n",
    "  train_generator = train_datagen.flow_from_directory(directory=TRAINING_DIR,\n",
    "                                                      batch_size=25,\n",
    "                                                      class_mode='categorical',\n",
    "                                                      target_size=(224, 224), color_mode='rgb')\n",
    "\n",
    "  # Instantiate the ImageDataGenerator class (don't forget to set the rescale argument)\n",
    "  validation_datagen = ImageDataGenerator(rescale = 1/255.0)\n",
    "\n",
    "  # Pass in the appropiate arguments to the flow_from_directory method\n",
    "  validation_generator = validation_datagen.flow_from_directory(directory=VALIDATION_DIR,\n",
    "                                                                batch_size=25,\n",
    "                                                                class_mode='categorical',\n",
    "                                                                target_size=(224, 224),\n",
    "                                                                color_mode='rgb')\n",
    "  ### END CODE HERE\n",
    "  return train_generator, validation_generator"
   ]
  },
  {
   "cell_type": "code",
   "execution_count": 9,
   "id": "7f9f7b52",
   "metadata": {},
   "outputs": [],
   "source": [
    "def color_segment_function(img_array):\n",
    "    img_array= np.rint(img_array)\n",
    "    img_array= img_array.astype('uint8')\n",
    "    hsv_img= cv2.cvtColor(img_array, cv2.COLOR_RGB2HSV)\n",
    "    mask = cv2.inRange(hsv_img, (24, 50, 0), (55, 255, 255))\n",
    "    result = cv2.bitwise_and(img_array, img_array, mask=mask)\n",
    "    result= result.astype('float64')\n",
    "    return result"
   ]
  },
  {
   "cell_type": "code",
   "execution_count": 10,
   "id": "24ef8cf8",
   "metadata": {},
   "outputs": [
    {
     "name": "stdout",
     "output_type": "stream",
     "text": [
      "Found 126 images belonging to 2 classes.\n"
     ]
    }
   ],
   "source": [
    "test_datagen = ImageDataGenerator(rescale=1./255, preprocessing_function=color_segment_function)\n",
    "test_generator = test_datagen.flow_from_directory(r'C:\\Users\\Donny Harahap\\OneDrive\\Dokumen\\Google Bangkit\\Capstone\\bakteri\\testing',\n",
    "                                                  target_size=(224, 224),\n",
    "                                                  batch_size=1,\n",
    "                                                  class_mode='categorical',\n",
    "                                                  shuffle=False)"
   ]
  },
  {
   "cell_type": "code",
   "execution_count": 11,
   "id": "bbaf1a38",
   "metadata": {},
   "outputs": [
    {
     "name": "stdout",
     "output_type": "stream",
     "text": [
      "Found 118 images belonging to 7 classes.\n",
      "Found 14 images belonging to 7 classes.\n"
     ]
    }
   ],
   "source": [
    "# Test your generators\n",
    "train_generator, validation_generator = train_val_generators(TRAINING_DIR, VALIDATION_DIR)"
   ]
  },
  {
   "cell_type": "code",
   "execution_count": 12,
   "id": "4843a383",
   "metadata": {},
   "outputs": [
    {
     "data": {
      "text/plain": [
       "['Acinetobacter.baumanii',\n",
       " 'Bacteroides.fragilis',\n",
       " 'Clostridium.perfringens',\n",
       " 'Enterococcus.faecium',\n",
       " 'Escherichia.coli',\n",
       " 'Fusobacterium',\n",
       " 'Lactobacillus.crispatus']"
      ]
     },
     "execution_count": 12,
     "metadata": {},
     "output_type": "execute_result"
    }
   ],
   "source": [
    "class_names = list(train_generator.class_indices.keys())\n",
    "class_names"
   ]
  },
  {
   "cell_type": "code",
   "execution_count": null,
   "id": "7e09c3a4",
   "metadata": {},
   "outputs": [],
   "source": [
    "#from prettytable import PrettyTable\n",
    "#get class indices and labels. calculate class weight\n",
    "#label_map = {}\n",
    "#for k, v in train_generator.class_indices.items():\n",
    " #   label_map[v]=k\n",
    "\n",
    "#class_counts= pd.Series(train_generator.classes).value_counts()\n",
    "#class_weight= {}\n",
    "\n",
    "#for i, c in class_counts.items():\n",
    " #   class_weight[i]= 1.0/c\n",
    "    \n",
    "#norm_factor= np.mean(list(class_weight.values()))\n",
    "\n",
    "#for k in class_counts.keys():\n",
    " #   class_weight[k]= class_weight[k]/norm_factor\n",
    "\n",
    "#t = PrettyTable(['class_index', 'class_label', 'class_weight'])\n",
    "#for i in sorted(class_weight.keys()):\n",
    " #   t.add_row([i, label_map[i], '{:.2f}'.format(class_weight[i])])\n",
    "#print(t)"
   ]
  },
  {
   "cell_type": "code",
   "execution_count": 14,
   "id": "fc365b46",
   "metadata": {},
   "outputs": [],
   "source": [
    "# base_model = tf.keras.applications.MobileNetV2(include_top=False)\n",
    "# base_model.trainable= False\n",
    "\n",
    "# inputs = layers.Input(shape=(224,224,3),name = \"input_shape\",dtype=tf.float16)\n",
    "# x = base_model(inputs,training=False)\n",
    "# x = layers.GlobalAvgPool2D(name=\"global_average_pooling_layer\")(x)\n",
    "# #x = layers.Dense(512, activation='relu')(x)\n",
    "# outputs = layers.Dense(len(class_names),activation='softmax',dtype=tf.float32,name='outputs')(x)\n",
    "\n",
    "# model_2 = Model(inputs,outputs)\n",
    "\n",
    "# model_2.compile(loss='categorical_crossentropy',optimizer=Adam(),metrics=['accuracy'])\n",
    "\n",
    "# model_2.summary()"
   ]
  },
  {
   "cell_type": "code",
   "execution_count": 13,
   "id": "2e2f3104",
   "metadata": {},
   "outputs": [
    {
     "name": "stdout",
     "output_type": "stream",
     "text": [
      "WARNING:tensorflow:`input_shape` is undefined or non-square, or `rows` is not in [96, 128, 160, 192, 224]. Weights for input shape (224, 224) will be loaded as the default.\n",
      "Model: \"functional_1\"\n",
      "_________________________________________________________________\n",
      "Layer (type)                 Output Shape              Param #   \n",
      "=================================================================\n",
      "input_shape (InputLayer)     [(None, 224, 224, 3)]     0         \n",
      "_________________________________________________________________\n",
      "mobilenetv2_1.00_224 (Functi (None, None, None, 1280)  2257984   \n",
      "_________________________________________________________________\n",
      "global_average_pooling_layer (None, 1280)              0         \n",
      "_________________________________________________________________\n",
      "outputs (Dense)              (None, 7)                 8967      \n",
      "=================================================================\n",
      "Total params: 2,266,951\n",
      "Trainable params: 8,967\n",
      "Non-trainable params: 2,257,984\n",
      "_________________________________________________________________\n"
     ]
    }
   ],
   "source": [
    "base_model = tf.keras.applications.MobileNetV2(include_top=False)\n",
    "base_model.trainable= False\n",
    "\n",
    "inputs = layers.Input(shape=(224,224,3),name = \"input_shape\",dtype=tf.float16)\n",
    "x = base_model(inputs,training=False)\n",
    "x = layers.GlobalAvgPool2D(name=\"global_average_pooling_layer\")(x)\n",
    "outputs = layers.Dense(len(class_names),activation='softmax',dtype=tf.float32,name='outputs')(x)\n",
    "\n",
    "model= Model(inputs,outputs)\n",
    "\n",
    "model.compile(loss='categorical_crossentropy',optimizer=Adam(),metrics=['accuracy'])\n",
    "\n",
    "model.summary()"
   ]
  },
  {
   "cell_type": "code",
   "execution_count": 65,
   "id": "6adf56b0",
   "metadata": {},
   "outputs": [],
   "source": [
    "# from tensorflow.keras import layers\n",
    "# model =  tf.keras.models.Sequential()\n",
    "\n",
    "# model.add(layers.Conv2D(32, (3, 3), input_shape=(224, 224, 3),padding='Same', activation='relu'))\n",
    "# model.add(layers.MaxPool2D(pool_size=2 , strides=2))\n",
    "# model.add(layers.Dropout(0.1))\n",
    "\n",
    "\n",
    "# model.add(layers.Conv2D(64, (3, 3),padding='Same' , activation='relu'))\n",
    "# model.add(layers.MaxPool2D(pool_size=2 , strides=2))\n",
    "# model.add(layers.Dropout(0.1))\n",
    "\n",
    "\n",
    "\n",
    "# model.add(layers.Conv2D(128, (3, 3),padding='Same', activation='relu'))\n",
    "# model.add(layers.MaxPool2D(pool_size=2 , strides=2))\n",
    "# #model.add(layers.Dropout(0.1))\n",
    "\n",
    "\n",
    "# model.add(layers.Conv2D(128, (3, 3),padding='Same', activation='relu'))\n",
    "# model.add(layers.MaxPool2D(pool_size=2 , strides=2))\n",
    "# #model.add(layers.Dropout(0.1))\n",
    "\n",
    "\n",
    "# model.add(layers.Flatten())\n",
    "# model.add(layers.Dropout(0.4))\n",
    "# model.add(layers.Dense(256, activation='relu'))\n",
    "\n",
    "# model.add(layers.Dense(len(CATEGORIES), activation='softmax'))\n",
    "\n",
    "\n",
    "# base_model = tf.keras.applications.MobileNetV2(include_top=False)\n",
    "# base_model.trainable= False\n",
    "\n",
    "# inputs = layers.Input(shape=(224,224,3),name = \"input_shape\",dtype=tf.float16)\n",
    "# x = base_model(inputs,training=False)\n",
    "# x = layers.GlobalAvgPool2D(name=\"global_average_pooling_layer\")(x)\n",
    "# #x = layers.Dense(512, activation='relu')(x)\n",
    "# outputs = layers.Dense(len(class_names),activation='softmax',dtype=tf.float32,name='outputs')(x)\n",
    "\n",
    "# model_2 = Model(inputs,outputs)\n",
    "\n",
    "\n"
   ]
  },
  {
   "cell_type": "code",
   "execution_count": 66,
   "id": "1071ca2f",
   "metadata": {},
   "outputs": [],
   "source": [
    "# model.compile(optimizer=keras.optimizers.Adam(lr=0.001, amsgrad=True),\n",
    "#                     loss='categorical_crossentropy',\n",
    "#                     metrics = ['accuracy']) "
   ]
  },
  {
   "cell_type": "code",
   "execution_count": null,
   "id": "8fc974a3",
   "metadata": {},
   "outputs": [],
   "source": [
    "# model.summary()"
   ]
  },
  {
   "cell_type": "code",
   "execution_count": 68,
   "id": "ea94d019",
   "metadata": {},
   "outputs": [],
   "source": [
    "# Opsi callBack1\n",
    "\n",
    "# class MyThresholdCallback(tf.keras.callbacks.Callback):\n",
    "#     def __init__(self, threshold):\n",
    "#         super(MyThresholdCallback, self).__init__()\n",
    "#         self.threshold = threshold\n",
    "\n",
    "#     def on_epoch_end(self, epoch, logs=None): \n",
    "#         val_acc = logs[\"val_loss\"]\n",
    "#         if val_acc <= self.threshold:\n",
    "#             self.model.stop_training = True\n",
    "\n",
    "# # callback_model2 = ModelCheckpoint(\"checkpoint_all/model2_45Data_trad.h5\")\n",
    "\n",
    "# my_callback = MyThresholdCallback(threshold=0.5)"
   ]
  },
  {
   "cell_type": "code",
   "execution_count": 19,
   "id": "ce432729",
   "metadata": {},
   "outputs": [],
   "source": [
    "# Opsi callBack2\n",
    "# best_cb= callbacks.ModelCheckpoint('model_best29Mei.h5', \n",
    "#                                          monitor='val_loss', \n",
    "#                                          verbose=1, \n",
    "#                                          save_best_only=True, \n",
    "#                                          save_weights_only=False, \n",
    "#                                          mode='auto', \n",
    "#                                          period=1)"
   ]
  },
  {
   "cell_type": "code",
   "execution_count": 14,
   "id": "3f56bb1a",
   "metadata": {
    "scrolled": true
   },
   "outputs": [
    {
     "name": "stdout",
     "output_type": "stream",
     "text": [
      "Epoch 1/10\n",
      "5/5 [==============================] - 5s 914ms/step - loss: 2.0605 - accuracy: 0.1610 - val_loss: 1.5875 - val_accuracy: 0.3571\n",
      "Epoch 2/10\n",
      "5/5 [==============================] - 3s 608ms/step - loss: 1.3430 - accuracy: 0.5508 - val_loss: 1.1519 - val_accuracy: 0.6429\n",
      "Epoch 3/10\n",
      "5/5 [==============================] - 3s 603ms/step - loss: 0.9049 - accuracy: 0.8136 - val_loss: 0.8207 - val_accuracy: 0.9286\n",
      "Epoch 4/10\n",
      "5/5 [==============================] - 3s 597ms/step - loss: 0.7224 - accuracy: 0.8898 - val_loss: 0.6264 - val_accuracy: 0.9286\n",
      "Epoch 5/10\n",
      "5/5 [==============================] - 3s 605ms/step - loss: 0.5097 - accuracy: 0.8898 - val_loss: 0.5158 - val_accuracy: 0.9286\n",
      "Epoch 6/10\n",
      "5/5 [==============================] - 3s 597ms/step - loss: 0.4132 - accuracy: 0.9237 - val_loss: 0.4295 - val_accuracy: 0.9286\n",
      "Epoch 7/10\n",
      "5/5 [==============================] - 3s 603ms/step - loss: 0.3712 - accuracy: 0.9237 - val_loss: 0.3855 - val_accuracy: 0.8571\n",
      "Epoch 8/10\n",
      "5/5 [==============================] - 3s 602ms/step - loss: 0.2952 - accuracy: 0.9661 - val_loss: 0.3553 - val_accuracy: 0.8571\n",
      "Epoch 9/10\n",
      "5/5 [==============================] - 3s 606ms/step - loss: 0.2961 - accuracy: 0.9492 - val_loss: 0.3337 - val_accuracy: 0.8571\n",
      "Epoch 10/10\n",
      "5/5 [==============================] - 3s 608ms/step - loss: 0.2588 - accuracy: 0.9661 - val_loss: 0.3173 - val_accuracy: 0.8571\n"
     ]
    }
   ],
   "source": [
    "# epochs = 150\n",
    "# steps_per_epoch = 50\n",
    "# Train the model\n",
    "# Note that this may take some time.\n",
    "\n",
    "history = model.fit(train_generator,\n",
    "                    epochs=10,\n",
    "                    verbose=1,\n",
    "                    validation_data=validation_generator)"
   ]
  },
  {
   "cell_type": "code",
   "execution_count": 15,
   "id": "76e0888f",
   "metadata": {},
   "outputs": [
    {
     "data": {
      "image/png": "[encoded data removed]",
      "text/plain": [
       "<Figure size 432x288 with 1 Axes>"
      ]
     },
     "metadata": {
      "needs_background": "light"
     },
     "output_type": "display_data"
    },
    {
     "name": "stdout",
     "output_type": "stream",
     "text": [
      "\n"
     ]
    },
    {
     "data": {
      "image/png": "[encoded data removed]",
      "text/plain": [
       "<Figure size 432x288 with 1 Axes>"
      ]
     },
     "metadata": {
      "needs_background": "light"
     },
     "output_type": "display_data"
    }
   ],
   "source": [
    "#-----------------------------------------------------------\n",
    "# Retrieve a list of list results on training and test data\n",
    "# sets for each training epoch\n",
    "#-----------------------------------------------------------\n",
    "acc=history.history['accuracy']\n",
    "val_acc=history.history['val_accuracy']\n",
    "loss=history.history['loss']\n",
    "val_loss=history.history['val_loss']\n",
    "\n",
    "epochs=range(len(acc)) # Get number of epochs\n",
    "#------------------------------------------------\n",
    "#------------------------------------------------\n",
    "plt.plot(epochs, acc, 'r', \"Training Accuracy\")\n",
    "plt.plot(epochs, val_acc, 'b', \"Validation Accuracy\")\n",
    "plt.title('Training and validation accuracy')\n",
    "plt.show()\n",
    "print(\"\")\n",
    "\n",
    "#------------------------------------------------\n",
    "# Plot training and validation loss per epoch\n",
    "#------------------------------------------------\n",
    "plt.plot(epochs, loss, 'r', \"Training Loss\")\n",
    "plt.plot(epochs, val_loss, 'b', \"Validation Loss\")\n",
    "plt.show()"
   ]
  },
  {
   "cell_type": "code",
   "execution_count": 16,
   "id": "f5fe0bf0",
   "metadata": {},
   "outputs": [],
   "source": [
    "model.save('model_best1Juni.h5')"
   ]
  },
  {
   "cell_type": "code",
   "execution_count": 17,
   "id": "cb669779",
   "metadata": {},
   "outputs": [],
   "source": [
    "from keras import models, layers, callbacks\n",
    "model= models.load_model('model_best1Juni.h5')"
   ]
  },
  {
   "cell_type": "code",
   "execution_count": 18,
   "id": "e0ae4b61",
   "metadata": {},
   "outputs": [
    {
     "data": {
      "text/plain": [
       "126"
      ]
     },
     "execution_count": 18,
     "metadata": {},
     "output_type": "execute_result"
    }
   ],
   "source": [
    "test_generator.n"
   ]
  },
  {
   "cell_type": "code",
   "execution_count": 19,
   "id": "2c313312",
   "metadata": {},
   "outputs": [
    {
     "name": "stdout",
     "output_type": "stream",
     "text": [
      "1/1 [==============================] - 0s 0s/step - loss: 0.3173 - accuracy: 0.8571\n"
     ]
    },
    {
     "data": {
      "text/plain": [
       "[0.3172517716884613, 0.8571428656578064]"
      ]
     },
     "execution_count": 19,
     "metadata": {},
     "output_type": "execute_result"
    }
   ],
   "source": [
    "model.evaluate(validation_generator)"
   ]
  },
  {
   "cell_type": "code",
   "execution_count": null,
   "id": "d58c2776",
   "metadata": {},
   "outputs": [],
   "source": [
    "# import cv2\n",
    "# pred= model.predict_generator(test_generator, steps= test_generator.n, verbose=1)"
   ]
  },
  {
   "cell_type": "code",
   "execution_count": null,
   "id": "44cb7bc8",
   "metadata": {},
   "outputs": [],
   "source": [
    "# predicted_class_indices=np.argmax(pred,axis=1)\n",
    "\n",
    "# prediction_labels = [label_map[k] for k in predicted_class_indices]\n",
    "# filenames= test_generator.filenames"
   ]
  },
  {
   "cell_type": "code",
   "execution_count": null,
   "id": "9f0e33d8",
   "metadata": {},
   "outputs": [],
   "source": [
    "# import csv\n",
    "# csvfile= open('ray_reed_submission.csv', 'w', newline='')\n",
    "# writer= csv.writer(csvfile)\n",
    "\n",
    "# headers= ['file', 'species']\n",
    "\n",
    "# writer.writerow(headers)\n",
    "# t = PrettyTable(headers)\n",
    "# for i, f, p in zip(range(len(filenames)), filenames, prediction_labels):\n",
    "#     writer.writerow([os.path.basename(f),p])\n",
    "#     if i <10:\n",
    "#         t.add_row([os.path.basename(f), p])\n",
    "#     elif i<13:\n",
    "#         t.add_row(['.', '.'])\n",
    "# csvfile.close()\n",
    "# print(t)"
   ]
  },
  {
   "cell_type": "code",
   "execution_count": 20,
   "id": "ec4be6ec",
   "metadata": {},
   "outputs": [],
   "source": [
    "def img_prep_predict(path):\n",
    "    img = plt.imread(path)\n",
    "    img=tf.image.resize(img,(224,224))\n",
    "    img=tf.expand_dims(img,axis=0)\n",
    "    img = img/255.\n",
    "    predmod = np.ravel(model.predict(img))\n",
    "    a= 0\n",
    "    nji = 0\n",
    "    for CATEGORIE in CATEGORIES:\n",
    "        if predmod[a] > nji:\n",
    "            mosnt = CATEGORIE\n",
    "            nji = predmod[a]\n",
    "        a+=1\n",
    "\n",
    "    return mosnt"
   ]
  },
  {
   "cell_type": "code",
   "execution_count": 27,
   "id": "f51c496a",
   "metadata": {},
   "outputs": [
    {
     "data": {
      "text/plain": [
       "'Escherichia.coli'"
      ]
     },
     "execution_count": 27,
     "metadata": {},
     "output_type": "execute_result"
    }
   ],
   "source": [
    "img_prep_predict(R\"C:\\Users\\Donny Harahap\\Downloads\\tes eschericia coli.jpg\")"
   ]
  },
  {
   "cell_type": "code",
   "execution_count": 28,
   "id": "e0db4ecd",
   "metadata": {},
   "outputs": [],
   "source": [
    "def img_prep_predict(path):\n",
    "    img = plt.imread(path)\n",
    "    img=tf.image.resize(img,(224,224))\n",
    "    img=tf.expand_dims(img,axis=0)\n",
    "    img = img/255.\n",
    "    return img"
   ]
  }
 ],
 "metadata": {
  "interpreter": {
   "hash": "41136136bc0c0c5aec5c7d2be1ea6a10f0519d4ace3af60b52b7cfede2d72061"
  },
  "kernelspec": {
   "display_name": "Python 3.8.0 ('tf')",
   "language": "python",
   "name": "python3"
  },
  "language_info": {
   "codemirror_mode": {
    "name": "ipython",
    "version": 3
   },
   "file_extension": ".py",
   "mimetype": "text/x-python",
   "name": "python",
   "nbconvert_exporter": "python",
   "pygments_lexer": "ipython3",
   "version": "3.8.0"
  }
 },
 "nbformat": 4,
 "nbformat_minor": 5
}
