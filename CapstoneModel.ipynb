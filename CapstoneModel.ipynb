{
  "cells": [
    {
      "cell_type": "code",
      "execution_count": 1,
      "id": "cad9f9fe",
      "metadata": {
        "id": "cad9f9fe"
      },
      "outputs": [],
      "source": [
        "# import packages that we need\n",
        "import pandas as pd\n",
        "import numpy as np\n",
        "import keras\n",
        "import os\n",
        "import zipfile\n",
        "import random\n",
        "import shutil\n",
        "import tensorflow as tf\n",
        "from tensorflow.keras.preprocessing.image import ImageDataGenerator\n",
        "from shutil import copyfile\n",
        "import matplotlib.pyplot as plt\n",
        "\n",
        "from tensorflow.keras.optimizers import RMSprop\n",
        "from sklearn.utils.class_weight import compute_class_weight\n",
        "\n",
        "import tensorflow as tf\n",
        "from tensorflow import keras\n",
        "from tensorflow.keras import Model\n",
        "from tensorflow.keras.models import load_model\n",
        "from tensorflow.keras import layers\n",
        "from tensorflow.keras.callbacks import ModelCheckpoint\n",
        "from tensorflow.keras.optimizers import Adam\n",
        "from tensorflow.keras.preprocessing.image import ImageDataGenerator, img_to_array, load_img\n",
        "\n",
        "import pandas as pd\n",
        "import numpy as np\n",
        "import matplotlib.pyplot as plt\n",
        "import os\n",
        "\n",
        "import io\n",
        "import random\n",
        "import shutil\n",
        "from PIL import Image\n",
        "\n",
        "\n",
        "import time\n",
        "from tqdm import tqdm"
      ]
    },
    {
      "cell_type": "code",
      "source": [
        "from google.colab import drive\n",
        "drive.mount('/content/gdrive')"
      ],
      "metadata": {
        "colab": {
          "base_uri": "https://localhost:8080/"
        },
        "id": "wGawkMzURuE8",
        "outputId": "5f25388e-4241-402b-b566-ac407d0946d4"
      },
      "id": "wGawkMzURuE8",
      "execution_count": 2,
      "outputs": [
        {
          "output_type": "stream",
          "name": "stdout",
          "text": [
            "Mounted at /content/gdrive\n"
          ]
        }
      ]
    },
    {
      "cell_type": "code",
      "execution_count": 3,
      "id": "b2189bcd",
      "metadata": {
        "id": "b2189bcd"
      },
      "outputs": [],
      "source": [
        "DATADIR = r\"/content/gdrive/MyDrive/Classes\"\n",
        "CATEGORIES = ['ACINETOBACTER','CLOSTRIDIUM','LACTOBACILLUS']\n",
        "#CATEGORIES = ['Abutilon Hybridum','Alpinia Galanga (Rasna)', 'Amaranthus Viridis (Arive-Dantu)', 'Anthurium Scherzerianum', 'Aporocactus Flagelliformis', 'Basella Alba (Basale)', 'Calathea Crocata', 'daisy', 'dandelion', 'Ficus Religiosa (Peepal Tree)', 'Hibiscus rosa-sinensis', 'Lithops fulleri', 'Lithops optica _Rubra_', 'Lithops pseudotruncatella', 'Moringa Oleifera (Drumstick)', 'Nerium Oleander (Oleander)', 'Ocimum Tenuiflorum (Tulsi)', 'Pachystachys Lutea', 'Paphiopedilum Venustum', 'Peperomia Argyela', 'Phalaenopsis amabilis', 'Plectranthus Amboinicus (Mexican Mint)', 'Punica Granatum (Pomegranate)', 'rose', 'Schlumbergera Bridgesii', 'Strelitzia Reginae', 'sunflower', 'Trigonella Foenum-graecum (Fenugreek)', 'tulip', 'Asplenium Nidus', 'Calathea Roseopicta', 'Calathea Zebrina', 'Chlorophytum Comosum', 'Davallia Fejeensis', 'Ficus Auriculata (Roxburgh fig)', 'Mentha (Mint)', 'Nephrolepis Exaltata', 'Opuntia Microdasys', 'Pilea Cadierei', 'Piper Betle (Betel)', 'Santalum Album (Sandalwood)', 'Sedum Morganianum', 'Monstera Deliciosa', 'snow white aglaonema']"
      ]
    },
    {
      "cell_type": "code",
      "execution_count": 4,
      "id": "83347fd8",
      "metadata": {
        "colab": {
          "base_uri": "https://localhost:8080/"
        },
        "id": "83347fd8",
        "outputId": "b62811c7-9ad0-4300-e4d2-a115fc546229"
      },
      "outputs": [
        {
          "output_type": "stream",
          "name": "stdout",
          "text": [
            "There are 210 images of Clostridium.perfringens.\n",
            "There are 200 images of Lactobacillus.crispatus.\n"
          ]
        }
      ],
      "source": [
        "source_path = r\"/content/gdrive/MyDrive/Classes\"\n",
        "\n",
        "source_path_dogs = os.path.join(source_path, 'CLOSTRIDIUM')\n",
        "source_path_cats = os.path.join(source_path, 'LACTOBACILLUS')\n",
        "\n",
        "\n",
        "# os.listdir returns a list containing all files under the given path\n",
        "print(f\"There are {len(os.listdir(source_path_dogs))} images of Clostridium.perfringens.\")\n",
        "print(f\"There are {len(os.listdir(source_path_cats))} images of Lactobacillus.crispatus.\")"
      ]
    },
    {
      "cell_type": "code",
      "execution_count": 5,
      "id": "a131e669",
      "metadata": {
        "id": "a131e669"
      },
      "outputs": [],
      "source": [
        "# Define root directoryeifera (Drumstick)', 'Nerium Oleander (Oleander)', 'Ocimum Tenuiflorum (Tulsi)', 'Pachystachys Lutea', 'Paphiopedilum Venustum', 'Peperomia Argyela', 'Phalaenopsis amabilis', 'Plectranthus Amboinicus (Mexican Mint)', 'Punica Granatum (Pomegranate)', 'rose', 'Schlumbergera Bridgesii', 'Strelitzia Reginae', 'sunflower', 'Trigonella Foenum-graecum (Fenugreek)', 'tulip', 'Asplenium Nidus', 'Calathea Roseopicta', 'Calathea Zebrina', 'Chlorophytum Comosum', 'Davallia Fejeensis', 'Ficus Auriculata (Roxburgh fig)', 'Mentha (Mint)', 'Nephrolepis Exaltata', 'Opuntia Microdasys', 'Pilea Cadierei', 'Piper Betle (Betel)', 'Santalum Album (Sandalwood)', 'Sedum Morganianum', 'Monstera Deliciosa', 'snow white aglaonema']\n",
        "root_dir = r'Classes'\n",
        "\n",
        "# Empty directory to prevent FileExistsError is the function is run several times\n",
        "if os.path.exists(root_dir):\n",
        "  shutil.rmtree(root_dir)\n",
        "\n",
        "# GRADED FUNCTION: create_train_test_dirs\n",
        "def create_train_test_dirs(root_path):\n",
        "\n",
        "  # Use os.makedirs to create your directories with intermediate subdirectories\n",
        "  # Don't hardcode the paths. Use os.path.join to append the new directories to the root_path parameter\n",
        "  train_dir = os.path.join(root_path, 'training')\n",
        "  os.makedirs(train_dir)\n",
        "  validation_dir = os.path.join(root_path, 'validation')\n",
        "  os.makedirs(validation_dir)\n",
        "  test_dir = os.path.join(root_path, 'testing')\n",
        "  os.makedirs(test_dir)\n",
        "  # Directory with training cat/dog pictures\n",
        "  for bakteri in CATEGORIES:\n",
        "        os.makedirs(os.path.join(train_dir, bakteri))\n",
        "\n",
        "  # Directory with validation cat/dog pictures\n",
        "  for bakteri in CATEGORIES:\n",
        "        os.makedirs(os.path.join(validation_dir, bakteri))\n",
        "  for bakteri in CATEGORIES:\n",
        "        os.makedirs(os.path.join(test_dir, bakteri))\n",
        "\n",
        "\n",
        "  \n",
        "try:\n",
        "  create_train_test_dirs(root_path=root_dir)\n",
        "except FileExistsError:\n",
        "  print(\"You should not be seeing this since the upper directory is removed beforehand\")"
      ]
    },
    {
      "cell_type": "code",
      "execution_count": 6,
      "id": "217dd00a",
      "metadata": {
        "colab": {
          "base_uri": "https://localhost:8080/"
        },
        "id": "217dd00a",
        "outputId": "4b7e9468-65e1-45c3-a9e3-3b76392a334b"
      },
      "outputs": [
        {
          "output_type": "stream",
          "name": "stdout",
          "text": [
            "Classes/training\n",
            "Classes/testing\n",
            "Classes/validation\n",
            "Classes/training/LACTOBACILLUS\n",
            "Classes/training/CLOSTRIDIUM\n",
            "Classes/training/ACINETOBACTER\n",
            "Classes/testing/LACTOBACILLUS\n",
            "Classes/testing/CLOSTRIDIUM\n",
            "Classes/testing/ACINETOBACTER\n",
            "Classes/validation/LACTOBACILLUS\n",
            "Classes/validation/CLOSTRIDIUM\n",
            "Classes/validation/ACINETOBACTER\n"
          ]
        }
      ],
      "source": [
        "# Test your create_train_test_dirs function\n",
        "\n",
        "for rootdir, dirs, files in os.walk(root_dir):\n",
        "    for subdir in dirs:\n",
        "        print(os.path.join(rootdir, subdir))"
      ]
    },
    {
      "cell_type": "code",
      "execution_count": 7,
      "id": "588cbf91",
      "metadata": {
        "id": "588cbf91"
      },
      "outputs": [],
      "source": [
        "# GRADED FUNCTION: split_data\n",
        "def split_data(SOURCE, TRAINING, VALIDATION, TESTING, SPLIT_SIZE1, SPLIT_SIZE2):\n",
        "\n",
        "  ### START CODE HERE\n",
        "  #os.path.getsize(PATH)\n",
        "    list_name = os.listdir(SOURCE)\n",
        "    random.sample(list_name, len(list_name))\n",
        "  \n",
        "\n",
        "\n",
        "    part1 = int(len(list_name) * SPLIT_SIZE1)\n",
        "    training_file = list_name[:part1]\n",
        "    PREtesting_file =list_name[part1:]\n",
        "    part2 = int(len(PREtesting_file) * SPLIT_SIZE2)\n",
        "    validation_file = PREtesting_file[:part2]\n",
        "    testing_file =PREtesting_file[part2:]\n",
        "\n",
        "    for file in training_file:\n",
        "        copyfile(os.path.join(SOURCE, file), os.path.join(TRAINING, file))\n",
        "    for file in validation_file:\n",
        "        copyfile(os.path.join(SOURCE, file), os.path.join(VALIDATION, file))\n",
        "    for file in testing_file:\n",
        "        copyfile(os.path.join(SOURCE, file), os.path.join(TESTING, file))\n",
        "#      copyfile(SOURCE+file, TESTING+file)\n",
        "\n",
        "  ### END CODE HERE\n"
      ]
    },
    {
      "cell_type": "code",
      "execution_count": 8,
      "id": "a55be7da",
      "metadata": {
        "id": "a55be7da"
      },
      "outputs": [],
      "source": [
        "TRAINING_DIR = r\"/content/Classes/training\"\n",
        "VALIDATION_DIR = r\"/content/Classes/validation\"\n",
        "TESTING_DIR = r\"/content/Classes/testing\"\n",
        "\n",
        "for bakteri in CATEGORIES:\n",
        "    if len(os.listdir(os.path.join(TRAINING_DIR, bakteri))) > 0:\n",
        "        for file in os.scandir(os.path.join(TRAINING_DIR, bakteri)):\n",
        "            os.remove(file.path)\n",
        "    if len(os.listdir(os.path.join(VALIDATION_DIR, bakteri))) > 0:\n",
        "        for file in os.scandir(os.path.join(VALIDATION_DIR, bakteri)):\n",
        "            os.remove(file.path)\n",
        "    if len(os.listdir(os.path.join(TESTING_DIR, bakteri))) > 0:\n",
        "        for file in os.scandir(os.path.join(TESTING_DIR, bakteri)):\n",
        "            os.remove(file.path)\n",
        "\n",
        "# Define proportion of images used for training\n",
        "split_size1 = 0.8\n",
        "split_size2 = 1\n",
        "# Run the function\n",
        "# NOTE: Messages about zero length images should be printed out\n",
        "for bakteri in CATEGORIES:\n",
        "    split_data(os.path.join(source_path, bakteri), os.path.join(TRAINING_DIR, bakteri), os.path.join(VALIDATION_DIR, bakteri), os.path.join(TESTING_DIR, bakteri), split_size1, split_size2)\n",
        "    \n"
      ]
    },
    {
      "cell_type": "code",
      "execution_count": 9,
      "id": "cde7d921",
      "metadata": {
        "id": "cde7d921"
      },
      "outputs": [],
      "source": [
        "# GRADED FUNCTION: train_val_generators\n",
        "def train_val_generators(TRAINING_DIR, VALIDATION_DIR):\n",
        "  ### START CODE HERE\n",
        "\n",
        "  # Instantiate the ImageDataGenerator class (don't forget to set the arguments to augment the images)\n",
        "  train_datagen = ImageDataGenerator(rescale=1.0/255.0,\n",
        "                                     rotation_range=20,\n",
        "                                     width_shift_range=.0,\n",
        "                                     height_shift_range=.0,\n",
        "                                     shear_range=0.2,\n",
        "                                     zoom_range=0.2,\n",
        "                                     horizontal_flip=True,\n",
        "                                     fill_mode=\"nearest\")\n",
        "\n",
        "  # Pass in the appropriate arguments to the flow_from_directory method\n",
        "  train_generator = train_datagen.flow_from_directory(directory=TRAINING_DIR,\n",
        "                                                      batch_size=45,\n",
        "                                                      class_mode='categorical',\n",
        "                                                      target_size=(224, 224), color_mode='rgb')\n",
        "\n",
        "  # Instantiate the ImageDataGenerator class (don't forget to set the rescale argument)\n",
        "  validation_datagen = ImageDataGenerator(rescale = 1/255.0)\n",
        "\n",
        "  # Pass in the appropiate arguments to the flow_from_directory method\n",
        "  validation_generator = validation_datagen.flow_from_directory(directory=VALIDATION_DIR,\n",
        "                                                                batch_size=45,\n",
        "                                                                class_mode='categorical',\n",
        "                                                                target_size=(224, 224),\n",
        "                                                                color_mode='rgb')\n",
        "  ### END CODE HERE\n",
        "  return train_generator, validation_generator"
      ]
    },
    {
      "cell_type": "code",
      "execution_count": 30,
      "id": "7f9f7b52",
      "metadata": {
        "id": "7f9f7b52"
      },
      "outputs": [],
      "source": [
        "def color_segment_function(img_array):\n",
        "    img_array= np.rint(img_array)\n",
        "    img_array= img_array.astype('uint8')\n",
        "    hsv_img= cv2.cvtColor(img_array, cv2.COLOR_RGB2HSV)\n",
        "    mask = cv2.inRange(hsv_img, (24, 50, 0), (55, 255, 255))\n",
        "    result = cv2.bitwise_and(img_array, img_array, mask=mask)\n",
        "    result= result.astype('float32')\n",
        "    return result"
      ]
    },
    {
      "cell_type": "code",
      "execution_count": 31,
      "id": "24ef8cf8",
      "metadata": {
        "colab": {
          "base_uri": "https://localhost:8080/"
        },
        "id": "24ef8cf8",
        "outputId": "52e3169b-f00b-4c41-8f1d-0aace6f39339"
      },
      "outputs": [
        {
          "output_type": "stream",
          "name": "stdout",
          "text": [
            "Found 0 images belonging to 3 classes.\n"
          ]
        }
      ],
      "source": [
        "test_datagen = ImageDataGenerator(rescale=1./255, preprocessing_function=color_segment_function)\n",
        "test_generator = test_datagen.flow_from_directory(r'/content/Classes/testing',\n",
        "                                                  target_size=(224, 224),\n",
        "                                                  batch_size=45,\n",
        "                                                  class_mode='categorical',\n",
        "                                                  shuffle=False)"
      ]
    },
    {
      "cell_type": "code",
      "execution_count": 32,
      "id": "bbaf1a38",
      "metadata": {
        "colab": {
          "base_uri": "https://localhost:8080/"
        },
        "id": "bbaf1a38",
        "outputId": "2b391bf4-604a-4d84-a367-7cb1f9aef06a"
      },
      "outputs": [
        {
          "output_type": "stream",
          "name": "stdout",
          "text": [
            "Found 488 images belonging to 3 classes.\n",
            "Found 122 images belonging to 3 classes.\n"
          ]
        }
      ],
      "source": [
        "# Test your generators\n",
        "train_generator, validation_generator = train_val_generators(TRAINING_DIR, VALIDATION_DIR)"
      ]
    },
    {
      "cell_type": "code",
      "execution_count": 33,
      "id": "4843a383",
      "metadata": {
        "colab": {
          "base_uri": "https://localhost:8080/"
        },
        "id": "4843a383",
        "outputId": "573cbc6b-516f-43cb-9ffa-ec9006df60fc"
      },
      "outputs": [
        {
          "output_type": "execute_result",
          "data": {
            "text/plain": [
              "['ACINETOBACTER', 'CLOSTRIDIUM', 'LACTOBACILLUS']"
            ]
          },
          "metadata": {},
          "execution_count": 33
        }
      ],
      "source": [
        "class_names = list(train_generator.class_indices.keys())\n",
        "class_names"
      ]
    },
    {
      "cell_type": "code",
      "execution_count": 34,
      "id": "2e2f3104",
      "metadata": {
        "colab": {
          "base_uri": "https://localhost:8080/"
        },
        "id": "2e2f3104",
        "outputId": "8967fe37-238b-4946-9d0c-d74f3f0ee07e"
      },
      "outputs": [
        {
          "output_type": "stream",
          "name": "stdout",
          "text": [
            "WARNING:tensorflow:`input_shape` is undefined or non-square, or `rows` is not in [96, 128, 160, 192, 224]. Weights for input shape (224, 224) will be loaded as the default.\n"
          ]
        },
        {
          "output_type": "stream",
          "name": "stderr",
          "text": [
            "WARNING:tensorflow:`input_shape` is undefined or non-square, or `rows` is not in [96, 128, 160, 192, 224]. Weights for input shape (224, 224) will be loaded as the default.\n"
          ]
        },
        {
          "output_type": "stream",
          "name": "stdout",
          "text": [
            "Model: \"model_1\"\n",
            "_________________________________________________________________\n",
            " Layer (type)                Output Shape              Param #   \n",
            "=================================================================\n",
            " input_shape (InputLayer)    [(None, 224, 224, 3)]     0         \n",
            "                                                                 \n",
            " mobilenetv2_1.00_224 (Funct  (None, None, None, 1280)  2257984  \n",
            " ional)                                                          \n",
            "                                                                 \n",
            " global_average_pooling_laye  (None, 1280)             0         \n",
            " r (GlobalAveragePooling2D)                                      \n",
            "                                                                 \n",
            " outputs (Dense)             (None, 3)                 3843      \n",
            "                                                                 \n",
            "=================================================================\n",
            "Total params: 2,261,827\n",
            "Trainable params: 3,843\n",
            "Non-trainable params: 2,257,984\n",
            "_________________________________________________________________\n"
          ]
        },
        {
          "output_type": "stream",
          "name": "stderr",
          "text": [
            "/usr/local/lib/python3.7/dist-packages/keras/optimizer_v2/adam.py:105: UserWarning: The `lr` argument is deprecated, use `learning_rate` instead.\n",
            "  super(Adam, self).__init__(name, **kwargs)\n"
          ]
        }
      ],
      "source": [
        "base_model = tf.keras.applications.MobileNetV2(include_top=False)\n",
        "base_model.trainable= False\n",
        "\n",
        "inputs = layers.Input(shape=(224,224,3),name = \"input_shape\",dtype=tf.float16)\n",
        "x = base_model(inputs,training=False)\n",
        "x = layers.GlobalAvgPool2D(name=\"global_average_pooling_layer\")(x)\n",
        "outputs = layers.Dense(len(class_names),activation='softmax',dtype=tf.float32,name='outputs')(x)\n",
        "\n",
        "model= Model(inputs,outputs)\n",
        "\n",
        "model.compile(optimizer=keras.optimizers.Adam(lr=0.001, amsgrad=True),\n",
        "                     loss='categorical_crossentropy',\n",
        "                     metrics = ['accuracy'])\n",
        "\n",
        "model.summary()"
      ]
    },
    {
      "cell_type": "code",
      "execution_count": 35,
      "id": "3f56bb1a",
      "metadata": {
        "scrolled": true,
        "colab": {
          "base_uri": "https://localhost:8080/"
        },
        "id": "3f56bb1a",
        "outputId": "642c40e3-ae94-4d08-8ec1-b8471e67a6ba"
      },
      "outputs": [
        {
          "output_type": "stream",
          "name": "stdout",
          "text": [
            "Epoch 1/3\n",
            "11/11 [==============================] - 39s 3s/step - loss: 0.7667 - accuracy: 0.6721 - val_loss: 0.2732 - val_accuracy: 0.9508\n",
            "Epoch 2/3\n",
            "11/11 [==============================] - 32s 3s/step - loss: 0.2825 - accuracy: 0.9098 - val_loss: 0.0821 - val_accuracy: 1.0000\n",
            "Epoch 3/3\n",
            "11/11 [==============================] - 37s 3s/step - loss: 0.1562 - accuracy: 0.9631 - val_loss: 0.0515 - val_accuracy: 1.0000\n"
          ]
        }
      ],
      "source": [
        "# epochs = 150\n",
        "# steps_per_epoch = 50\n",
        "# Train the model\n",
        "# Note that this may take some time.\n",
        "\n",
        "history = model.fit(train_generator,\n",
        "                    epochs=3,\n",
        "                    verbose=1,\n",
        "                    validation_data=validation_generator)"
      ]
    },
    {
      "cell_type": "code",
      "execution_count": 36,
      "id": "76e0888f",
      "metadata": {
        "colab": {
          "base_uri": "https://localhost:8080/",
          "height": 546
        },
        "id": "76e0888f",
        "outputId": "76bb227c-feef-4b7d-e830-4ea0d101e03c"
      },
      "outputs": [
        {
          "output_type": "display_data",
          "data": {
            "text/plain": [
              "<Figure size 432x288 with 1 Axes>"
            ],
            "image/png": "[encoded data removed]"
          },
          "metadata": {
            "needs_background": "light"
          }
        },
        {
          "output_type": "stream",
          "name": "stdout",
          "text": [
            "\n"
          ]
        },
        {
          "output_type": "display_data",
          "data": {
            "text/plain": [
              "<Figure size 432x288 with 1 Axes>"
            ],
            "image/png": "[encoded data removed]"
          },
          "metadata": {
            "needs_background": "light"
          }
        }
      ],
      "source": [
        "#-----------------------------------------------------------\n",
        "# Retrieve a list of list results on training and test data\n",
        "# sets for each training epoch\n",
        "#-----------------------------------------------------------\n",
        "acc=history.history['accuracy']\n",
        "val_acc=history.history['val_accuracy']\n",
        "loss=history.history['loss']\n",
        "val_loss=history.history['val_loss']\n",
        "\n",
        "epochs=range(len(acc)) # Get number of epochs\n",
        "#------------------------------------------------\n",
        "#------------------------------------------------\n",
        "plt.plot(epochs, acc, 'r', \"Training Accuracy\")\n",
        "plt.plot(epochs, val_acc, 'b', \"Validation Accuracy\")\n",
        "plt.title('Training and validation accuracy')\n",
        "plt.show()\n",
        "print(\"\")\n",
        "\n",
        "#------------------------------------------------\n",
        "# Plot training and validation loss per epoch\n",
        "#------------------------------------------------\n",
        "plt.plot(epochs, loss, 'r', \"Training Loss\")\n",
        "plt.plot(epochs, val_loss, 'b', \"Validation Loss\")\n",
        "plt.show()"
      ]
    },
    {
      "cell_type": "code",
      "execution_count": 37,
      "id": "f5fe0bf0",
      "metadata": {
        "id": "f5fe0bf0"
      },
      "outputs": [],
      "source": [
        "model.save('model_best7Juni.h5')"
      ]
    },
    {
      "cell_type": "code",
      "execution_count": 38,
      "id": "cb669779",
      "metadata": {
        "id": "cb669779"
      },
      "outputs": [],
      "source": [
        "from keras import models, layers, callbacks\n",
        "model= models.load_model('model_best7Juni.h5')"
      ]
    },
    {
      "cell_type": "code",
      "execution_count": 23,
      "id": "e0ae4b61",
      "metadata": {
        "colab": {
          "base_uri": "https://localhost:8080/"
        },
        "id": "e0ae4b61",
        "outputId": "507a8bc9-e07d-4759-82f3-181966edaf6f"
      },
      "outputs": [
        {
          "output_type": "execute_result",
          "data": {
            "text/plain": [
              "0"
            ]
          },
          "metadata": {},
          "execution_count": 23
        }
      ],
      "source": [
        "test_generator.n"
      ]
    },
    {
      "cell_type": "code",
      "execution_count": 39,
      "id": "2c313312",
      "metadata": {
        "colab": {
          "base_uri": "https://localhost:8080/"
        },
        "id": "2c313312",
        "outputId": "88560550-fe88-4906-aec2-bc2d8f779d37"
      },
      "outputs": [
        {
          "output_type": "stream",
          "name": "stdout",
          "text": [
            "3/3 [==============================] - 6s 1s/step - loss: 0.0515 - accuracy: 1.0000\n"
          ]
        },
        {
          "output_type": "execute_result",
          "data": {
            "text/plain": [
              "[0.05151742696762085, 1.0]"
            ]
          },
          "metadata": {},
          "execution_count": 39
        }
      ],
      "source": [
        "model.evaluate(validation_generator)"
      ]
    },
    {
      "cell_type": "code",
      "execution_count": 40,
      "id": "ec4be6ec",
      "metadata": {
        "id": "ec4be6ec"
      },
      "outputs": [],
      "source": [
        "def img_prep_predict(path):\n",
        "    img = plt.imread(path)\n",
        "    img=tf.image.resize(img,(224,224))\n",
        "    img=tf.expand_dims(img,axis=0)\n",
        "    img = img/255.\n",
        "    predmod = np.ravel(model.predict(img))\n",
        "    a= 0\n",
        "    nji = 0\n",
        "    for CATEGORIE in CATEGORIES:\n",
        "        if predmod[a] > nji:\n",
        "            mosnt = CATEGORIE\n",
        "            nji = predmod[a]\n",
        "        a+=1\n",
        "\n",
        "    return mosnt"
      ]
    },
    {
      "cell_type": "code",
      "execution_count": 41,
      "id": "f51c496a",
      "metadata": {
        "colab": {
          "base_uri": "https://localhost:8080/",
          "height": 36
        },
        "id": "f51c496a",
        "outputId": "655dcfbb-fba8-4a4c-b3ba-2dc71d11b64e"
      },
      "outputs": [
        {
          "output_type": "execute_result",
          "data": {
            "text/plain": [
              "'ACINETOBACTER'"
            ],
            "application/vnd.google.colaboratory.intrinsic+json": {
              "type": "string"
            }
          },
          "metadata": {},
          "execution_count": 41
        }
      ],
      "source": [
        "img_prep_predict(R\"/content/gdrive/MyDrive/Classes/ACINETOBACTER/Acinetobacter.baumanii_0001.jpg\")"
      ]
    },
    {
      "cell_type": "code",
      "execution_count": 42,
      "id": "e0db4ecd",
      "metadata": {
        "id": "e0db4ecd"
      },
      "outputs": [],
      "source": [
        "def img_prep_predict(path):\n",
        "    img = plt.imread(path)\n",
        "    img = tf.image.resize(img,(224,224))\n",
        "    img = tf.expand_dims(img,axis=0)\n",
        "    img = img/255.\n",
        "    return img"
      ]
    },
    {
      "cell_type": "code",
      "execution_count": 29,
      "id": "5224c3a8",
      "metadata": {
        "colab": {
          "base_uri": "https://localhost:8080/"
        },
        "id": "5224c3a8",
        "outputId": "7c41a1e7-c604-42c6-bde0-8ffee5996f8d"
      },
      "outputs": [
        {
          "output_type": "stream",
          "name": "stdout",
          "text": [
            "make: *** No rule to make target 'qt5py3'.  Stop.\n"
          ]
        }
      ],
      "source": [
        "# if os.name == 'posix':\n",
        "#     !make qt5py3\n",
        "# if os.name =='nt':\n",
        "#     !cd {LABELIMG_PATH} && pyrcc5 -o libs/resources.py resources.qrc"
      ]
    },
    {
      "cell_type": "code",
      "source": [
        "#TFLite Saved Model\n",
        "export_dir = 'saved_model/1'\n",
        "\n",
        "tf.saved_model.save(model, export_dir = export_dir)"
      ],
      "metadata": {
        "colab": {
          "base_uri": "https://localhost:8080/"
        },
        "id": "QHfgsvEil1vY",
        "outputId": "613b12f3-883c-4520-e857-8646b08a0b0d"
      },
      "id": "QHfgsvEil1vY",
      "execution_count": 43,
      "outputs": [
        {
          "output_type": "stream",
          "name": "stdout",
          "text": [
            "INFO:tensorflow:Assets written to: saved_model/1/assets\n"
          ]
        },
        {
          "output_type": "stream",
          "name": "stderr",
          "text": [
            "INFO:tensorflow:Assets written to: saved_model/1/assets\n"
          ]
        }
      ]
    },
    {
      "cell_type": "code",
      "source": [
        "# # Select mode of optimization\n",
        "# mode = \"Speed\" \n",
        "\n",
        "# if mode == 'Storage':\n",
        "#     optimization = tf.lite.Optimize.OPTIMIZE_FOR_SIZE\n",
        "# elif mode == 'Speed':\n",
        "#     optimization = tf.lite.Optimize.OPTIMIZE_FOR_LATENCY\n",
        "# else:\n",
        "#     optimization = tf.lite.Optimize.DEFAULT"
      ],
      "metadata": {
        "id": "tizJ4Tb0GHjG"
      },
      "id": "tizJ4Tb0GHjG",
      "execution_count": 24,
      "outputs": []
    },
    {
      "cell_type": "code",
      "source": [
        "converter = tf.lite.TFLiteConverter.from_saved_model(export_dir)\n",
        "\n",
        "converter.optimizations = [tf.lite.Optimize.DEFAULT]\n",
        "\n",
        "tflite_model = converter.convert()\n",
        "\n",
        "# converter.target_spec.supported_ops = [tf.lite.OpsSet.TFLITE_BUILTINS_INT8]\n",
        "# print(converter)\n",
        "# converter.inference_input_type = [tf.int8]\n",
        "# converter.inference_output_type = [tf.int8]\n",
        "# tflite_quant_model = converter.convert()"
      ],
      "metadata": {
        "id": "uPqJDDXjnMbe"
      },
      "id": "uPqJDDXjnMbe",
      "execution_count": null,
      "outputs": []
    },
    {
      "cell_type": "code",
      "source": [
        "# tflite_model = converter.convert()\n",
        "# tflite_model_file = 'converted_model.tflite'\n",
        "\n",
        "# with open(tflite_model_file, \"wb\") as f:\n",
        "#     f.write(tflite_model)"
      ],
      "metadata": {
        "id": "pFRi_ZWXn7Fr"
      },
      "id": "pFRi_ZWXn7Fr",
      "execution_count": null,
      "outputs": []
    },
    {
      "cell_type": "code",
      "source": [
        "# # Select mode of optimization\n",
        "# mode = \"Speed\" \n",
        "\n",
        "# if mode == 'Storage':\n",
        "#     optimization = tf.lite.Optimize.OPTIMIZE_FOR_SIZE\n",
        "# elif mode == 'Speed':\n",
        "#     optimization = tf.lite.Optimize.OPTIMIZE_FOR_LATENCY\n",
        "# else:\n",
        "#     optimization = tf.lite.Optimize.DEFAULT"
      ],
      "metadata": {
        "id": "G9iXUd2smxWd"
      },
      "id": "G9iXUd2smxWd",
      "execution_count": 39,
      "outputs": []
    },
    {
      "cell_type": "code",
      "source": [
        "# converter = tf.lite.TFLiteConverter.from_saved_model(export_dir)\n",
        "\n",
        "# # Set the optimzations\n",
        "# converter.optimizations = [optimization]\n",
        "\n",
        "# # Invoke the converter to finally generate the TFLite model\n",
        "# tflite_model = converter.convert()"
      ],
      "metadata": {
        "id": "KuC6S9rom2Cp"
      },
      "id": "KuC6S9rom2Cp",
      "execution_count": null,
      "outputs": []
    },
    {
      "cell_type": "code",
      "execution_count": 37,
      "id": "ede65c39",
      "metadata": {
        "id": "ede65c39"
      },
      "outputs": [],
      "source": [
        "# import cv2\n",
        "# thres = 0.45 # Threshold to detect object\n",
        " \n",
        "# cap = cv2.VideoCapture(1)\n",
        "# cap.set(3,1280)\n",
        "# cap.set(4,720)\n",
        "# cap.set(10,70)\n",
        " \n",
        "# classNames= []\n",
        "# classFile = ‘coco.names’\n",
        "# with open(classFile,’rt’) as f:\n",
        "# classNames = f.read().rstrip(‘n’).split(‘n’)\n",
        " \n",
        "# configPath = ‘ssd_mobilenet_v3_large_coco_2020_01_14.pbtxt’\n",
        "# weightsPath = ‘frozen_inference_graph.pb’\n",
        " \n",
        "# net = cv2.dnn_DetectionModel(weightsPath,configPath)\n",
        "# net.setInputSize(320,320)\n",
        "# net.setInputScale(1.0/ 127.5)\n",
        "# net.setInputMean((127.5, 127.5, 127.5))\n",
        "# net.setInputSwapRB(True)\n",
        " \n",
        "# while True:\n",
        "#     success,img = cap.read()\n",
        "#     classIds, confs, bbox = net.detect(img,confThreshold=thres)\n",
        "#     print(classIds,bbox)\n",
        " \n",
        "#     if len(classIds) != 0:\n",
        "#         for classId, confidence,box in zip(classIds.flatten(),confs.flatten(),bbox):\n",
        "#             cv2.rectangle(img,box,color=(0,255,0),thickness=2)\n",
        "#             cv2.putText(img,classNames[classId-1].upper(),(box[0]+10,box[1]+30),\n",
        "#             cv2.FONT_HERSHEY_COMPLEX,1,(0,255,0),2)\n",
        "#             cv2.putText(img,str(round(confidence*100,2)),(box[0]+200,box[1]+30),\n",
        "#             cv2.FONT_HERSHEY_COMPLEX,1,(0,255,0),2)\n",
        " \n",
        "#     cv2.imshow(“Output”,img)\n",
        "#     cv2.waitKey(1)"
      ]
    }
  ],
  "metadata": {
    "interpreter": {
      "hash": "41136136bc0c0c5aec5c7d2be1ea6a10f0519d4ace3af60b52b7cfede2d72061"
    },
    "kernelspec": {
      "display_name": "Python 3.8.0 ('tf')",
      "language": "python",
      "name": "python3"
    },
    "language_info": {
      "codemirror_mode": {
        "name": "ipython",
        "version": 3
      },
      "file_extension": ".py",
      "mimetype": "text/x-python",
      "name": "python",
      "nbconvert_exporter": "python",
      "pygments_lexer": "ipython3",
      "version": "3.8.0"
    },
    "colab": {
      "name": "CapstoneModel31Mei.ipynb",
      "provenance": []
    }
  },
  "nbformat": 4,
  "nbformat_minor": 5
}
